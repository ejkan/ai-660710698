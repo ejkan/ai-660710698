{
  "nbformat": 4,
  "nbformat_minor": 0,
  "metadata": {
    "colab": {
      "provenance": []
    },
    "kernelspec": {
      "name": "python3",
      "display_name": "Python 3"
    },
    "language_info": {
      "name": "python"
    }
  },
  "cells": [
    {
      "cell_type": "code",
      "source": [
        "# รันในเทอร์มินัล\n",
        "#pip install flask"
      ],
      "metadata": {
        "id": "M8i7XxD9P8kY"
      },
      "execution_count": null,
      "outputs": []
    },
    {
      "cell_type": "code",
      "source": [
        "# สร้างไฟล์ Python สำหรับ API (app.py)\n",
        "from flask import Flask, request, jsonify\n",
        "import pandas as pd\n",
        "import joblib\n",
        "import numpy as np\n",
        "from pyngrok import ngrok\n",
        "\n",
        "app = Flask(__name__)\n",
        "\n",
        "# โหลด Model ที่ฝึกฝนแล้ว\n",
        "model = joblib.load('best_rf_model.joblib')\n",
        "\n",
        "@app.route('/predict', methods=['POST'])\n",
        "def predict():\n",
        "    # รับข้อมูลจาก request\n",
        "    data = request.json\n",
        "\n",
        "    # แปลงข้อมูลเป็น DataFrame\n",
        "    df = pd.DataFrame(data, index=[0])\n",
        "\n",
        "    # ทำนายผลลัพธ์\n",
        "    prediction = model.predict(df)\n",
        "\n",
        "    # ส่งผลลัพธ์กลับ\n",
        "    return jsonify({'prediction': int(prediction[0])})\n",
        "\n",
        "# ตั้งค่า authtoken สำหรับ ngrok (แทนที่ด้วย authtoken ของคุณ)\n",
        "ngrok.set_auth_token('30xACy4LTcfQIXPOmN51Y72yZqt_6btwecquSkzRcrjFYrV8J')\n",
        "\n",
        "# เริ่มต้น Flask app และ ngrok\n",
        "if __name__ == '__main__':\n",
        "    # เริ่ม ngrok\n",
        "    public_url = ngrok.connect(5000)\n",
        "    print(f'Public URL: {public_url}')\n",
        "\n",
        "    # เริ่ม Flask app\n",
        "    app.run(host='0.0.0.0', port=5000)"
      ],
      "metadata": {
        "colab": {
          "base_uri": "https://localhost:8080/"
        },
        "id": "HbvRFg4LQJDW",
        "outputId": "e76163dd-a965-46ea-b1e2-b04043876adb"
      },
      "execution_count": 7,
      "outputs": [
        {
          "output_type": "stream",
          "name": "stdout",
          "text": [
            "Public URL: NgrokTunnel: \"https://3ad069c9a3b1.ngrok-free.app\" -> \"http://localhost:5000\"\n",
            " * Serving Flask app '__main__'\n",
            " * Debug mode: off\n"
          ]
        },
        {
          "output_type": "stream",
          "name": "stderr",
          "text": [
            "INFO:werkzeug:\u001b[31m\u001b[1mWARNING: This is a development server. Do not use it in a production deployment. Use a production WSGI server instead.\u001b[0m\n",
            " * Running on all addresses (0.0.0.0)\n",
            " * Running on http://127.0.0.1:5000\n",
            " * Running on http://172.28.0.12:5000\n",
            "INFO:werkzeug:\u001b[33mPress CTRL+C to quit\u001b[0m\n"
          ]
        }
      ]
    }
  ]
}